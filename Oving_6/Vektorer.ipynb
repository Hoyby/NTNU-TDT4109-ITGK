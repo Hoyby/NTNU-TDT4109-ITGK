{
 "cells": [
  {
   "cell_type": "markdown",
   "metadata": {
    "deletable": false,
    "editable": false,
    "run_control": {
     "frozen": true
    }
   },
   "source": [
    "<nav class=\"navbar navbar-default\">\n",
    "  <div class=\"container-fluid\">\n",
    "    <div class=\"navbar-header\">\n",
    "      <a class=\"navbar-brand\" href=\"_Oving6.ipynb\">Øving 6</a>\n",
    "    </div>\n",
    "    <ul class=\"nav navbar-nav\">\n",
    "      <li ><a href=\"Generelt%20om%20lister.ipynb\">Generelt om lister</a></li>\n",
    "    <li ><a href=\"Lett%20og%20blandet.ipynb\">Lett og blandet</a></li>\n",
    "    <li ><a href=\"Kodeforstaelse.ipynb\">Kodeforståelse</a></li>\n",
    "    <li class=\"active\"><a href=\"Vektorer.ipynb\">Vektorer</a></li>\n",
    "    <li ><a href=\"Lister%20og%20lokker.ipynb\">Lister og løkker</a></li>\n",
    "    <li ><a href=\"Teoridelen%20paa%20eksamen.ipynb\">Teoridelen på eksamen</a></li>\n",
    "    <li><a href=\"Gangetabell%20og%20lister.ipynb\">Gangetabell og lister</a></li>\n",
    "    <li ><a href=\"Lotto.ipynb\">Lotto</a></li>\n",
    "    <li ><a href=\"Tannfeen.ipynb\">Tannfeen</a></li>\n",
    "        <li><a href=\"Chattebot.ipynb\">Chattebot</a></li>\n",
    "    <li ><a href=\"Matriseaddisjon.ipynb\">Matriseaddisjon</a></li>\n",
    "    <li ><a href=\"Intro%20til%20numpy-arrays.ipynb\">Intro til numpy-arrays</a></li>\n",
    "    </ul>\n",
    "  </div>\n",
    "</nav>\n",
    "\n",
    "# Vektorer\n",
    "\n",
    "**Læringsmål:**\n",
    "\n",
    "* Lister\n",
    "\n",
    "**Starting Out with Python:**\n",
    "\n",
    "* Kap. 7.1-7.3\n",
    "\n",
    "I denne oppgaven skal vi studere lister bestående av tall, dvs. en vektor. Videre skal vi studere prikkprodukt og skalering av vektorer. \n",
    "\n",
    "En liste kan brukes til å representere en matematisk vektor.\n",
    "En av forskjellene mellom lister og vektorer er at lister kan inneholde elementer av forskjellige typer (f.eks både tall og strenger). I denne oppgaven skal du bruke lister til å implementere tredimensjonale vektorer, altså vektorer med tre elementer.\n",
    "\n",
    "**En vektor x=(x,y,z) har lengde $\\sqrt{x^{2}+y^{2}+z^{2}}$. Den kan multipliseres med tall, og vektormultipliseres med andre vektorer.**\n",
    "\n",
    "Multiplikasjon med tall, også kalt skalarmultiplikasjon, ganger hver komponent i vektoren med et tall (skalar).\n",
    "\n",
    "Prikkprodukt er multiplikasjon av to vektorer med samme lengde. Prikkprodukt og skalarmultiplikasjon er forklart i Eksempel 1.\n",
    "\n",
    "Eksempel 1:\n",
    "\n",
    "```python\n",
    "Prikkprodukt:\n",
    "u*v = u1*v1 + v2*u2 + v3*u3, hvor v = [v1,v2,v3] og u = [u1,u2,u3]\n",
    "Numerisk eksempel:\n",
    "[3,7,1]*[2,-4,8]=3*2+7*(-4)+1*8=-14\n",
    "```\n",
    "```python\n",
    "Skalarmultiplikasjon:\n",
    "c*[v1,v2,v3] = [c*v1,c*v2,c*v3]\n",
    "Numerisk eksempel:\n",
    "2*[3,7,1] = [6,14,2]\n",
    "```\n",
    "\n",
    "Gjennom oppgave a til f skal du lage et program som bruker forskjellige funksjoner til å gjøre forskjellige beregninger på vektorer."
   ]
  },
  {
   "cell_type": "markdown",
   "metadata": {
    "deletable": false,
    "editable": false,
    "run_control": {
     "frozen": true
    }
   },
   "source": [
    "### a)"
   ]
  },
  {
   "cell_type": "markdown",
   "metadata": {
    "deletable": false,
    "editable": false,
    "run_control": {
     "frozen": true
    }
   },
   "source": [
    "Lag en funksjon som lager en liste med 3 elementer, hvor alle elementene er heltall f.o.m. -10 t.o.m. 10, og returnerer denne. Benytt deg av random-biblioteket.\n",
    "\n",
    "Eksempel på kjøring\n",
    "\n",
    "```python\n",
    ">>>print(make_vec())\n",
    "[0, -9, 5]\n",
    "```\n",
    "***Skriv svaret ditt i boksen under.***"
   ]
  },
  {
   "cell_type": "code",
   "execution_count": 39,
   "metadata": {
    "ExecuteTime": {
     "end_time": "2019-07-03T08:13:38.430041Z",
     "start_time": "2019-07-03T08:13:38.423591Z"
    }
   },
   "outputs": [
    {
     "name": "stdout",
     "output_type": "stream",
     "text": [
      "[5, -6, 3]\n"
     ]
    }
   ],
   "source": [
    "import random\n",
    "\n",
    "\n",
    "def vector_creator():\n",
    "    vec = []\n",
    "    for i in range(0, 3):\n",
    "        vec.append(random.randint(-10, 10))\n",
    "    return vec\n",
    "\n",
    "print(vector_creator)"
   ]
  },
  {
   "cell_type": "markdown",
   "metadata": {
    "deletable": false,
    "editable": false,
    "run_control": {
     "frozen": true
    }
   },
   "source": [
    "### b)"
   ]
  },
  {
   "cell_type": "markdown",
   "metadata": {
    "deletable": false,
    "editable": false,
    "run_control": {
     "frozen": true
    }
   },
   "source": [
    "Lag en funksjon som tar inn en liste/vektor og et navn til denne vektoren som argumenter. Funksjonen skal skrive ut vektoren på en vakker måte.\n",
    "\n",
    "Eksempel på utskrift:\n",
    "```python\n",
    ">>>vector_print([1.20,4.50,4.40],'vec1')\n",
    "vec1 = [1.20, 4.50, 4.40]\n",
    "```\n",
    "***Skriv svaret ditt i boksen under.***"
   ]
  },
  {
   "cell_type": "code",
   "execution_count": 50,
   "metadata": {},
   "outputs": [
    {
     "name": "stdout",
     "output_type": "stream",
     "text": [
      "vec1 = [1, 9, -8]\n"
     ]
    }
   ],
   "source": [
    "def fin_vec(vector, name):\n",
    "    return (str(name) + \" = \" + str(vector))\n",
    "\n",
    "print(fin_vec(vector_creator(), \"vec1\"))"
   ]
  },
  {
   "cell_type": "markdown",
   "metadata": {
    "deletable": false,
    "editable": false,
    "run_control": {
     "frozen": true
    }
   },
   "source": [
    "### c)"
   ]
  },
  {
   "cell_type": "markdown",
   "metadata": {
    "deletable": false,
    "editable": false,
    "run_control": {
     "frozen": true
    }
   },
   "source": [
    "Lag en funksjon `scalar_mult(liste,skalar)` som tar inn en liste/vektor og en skalar som argumenter. Skalarmultipliserer vektoren og returnerer den nye vektoren, liste2. \n",
    "\n",
    "***Skriv svaret ditt i boksen under.***"
   ]
  },
  {
   "cell_type": "code",
   "execution_count": 116,
   "metadata": {
    "ExecuteTime": {
     "end_time": "2019-07-03T08:22:37.574523Z",
     "start_time": "2019-07-03T08:22:37.566574Z"
    }
   },
   "outputs": [
    {
     "name": "stdout",
     "output_type": "stream",
     "text": [
      "[804.0, 301.5, 100.5]\n"
     ]
    }
   ],
   "source": [
    "def scalar_mult(liste,skalar):\n",
    "    new_list = []\n",
    "    for i in range(len(liste)):\n",
    "        new_list.append(liste[i] * float(skalar))\n",
    "    return new_list\n",
    "\n",
    "print(scalar_mult(vector_creator(), 100.5))"
   ]
  },
  {
   "cell_type": "markdown",
   "metadata": {
    "deletable": false,
    "editable": false,
    "run_control": {
     "frozen": true
    }
   },
   "source": [
    "Dersom du har gjort det riktig skal kodesnutten under printe lista **[4.8, 18.0, 17.6]**. Trykk `ctrl + enter` for å kjøre testen."
   ]
  },
  {
   "cell_type": "code",
   "execution_count": 117,
   "metadata": {},
   "outputs": [
    {
     "name": "stdout",
     "output_type": "stream",
     "text": [
      "[4.8, 18.0, 17.6]\n"
     ]
    }
   ],
   "source": [
    "print(scalar_mult([1.2,4.5,4.4],4))"
   ]
  },
  {
   "cell_type": "markdown",
   "metadata": {
    "deletable": false,
    "editable": false,
    "run_control": {
     "frozen": true
    }
   },
   "source": [
    "### d)"
   ]
  },
  {
   "cell_type": "markdown",
   "metadata": {
    "deletable": false,
    "editable": false,
    "run_control": {
     "frozen": true
    }
   },
   "source": [
    "Lag en funksjon `vec_len(vektor)` som tar inn en vektor som argument, og regner ut og returnerer dens lengde. \n",
    "\n",
    "***Skriv svaret ditt i boksen under.***"
   ]
  },
  {
   "cell_type": "code",
   "execution_count": 64,
   "metadata": {
    "ExecuteTime": {
     "end_time": "2019-07-03T08:28:04.876329Z",
     "start_time": "2019-07-03T08:28:04.871381Z"
    }
   },
   "outputs": [],
   "source": [
    "from math import sqrt\n",
    "\n",
    "def vec_len(vektor):\n",
    "    lengde = sqrt((vektor[0] ** 2) + (vektor[1] ** 2) + (vektor[2] ** 2))\n",
    "    return lengde"
   ]
  },
  {
   "cell_type": "markdown",
   "metadata": {
    "deletable": false,
    "editable": false,
    "run_control": {
     "frozen": true
    }
   },
   "source": [
    "Dersom du har gjort det riktig skal kodesnutten under printe tallet **5.0990195135927845**"
   ]
  },
  {
   "cell_type": "code",
   "execution_count": 65,
   "metadata": {},
   "outputs": [
    {
     "name": "stdout",
     "output_type": "stream",
     "text": [
      "5.0990195135927845\n"
     ]
    }
   ],
   "source": [
    "print(vec_len([1,4,3]))"
   ]
  },
  {
   "cell_type": "markdown",
   "metadata": {
    "deletable": false,
    "editable": false,
    "run_control": {
     "frozen": true
    }
   },
   "source": [
    "### e)"
   ]
  },
  {
   "cell_type": "markdown",
   "metadata": {
    "ExecuteTime": {
     "end_time": "2019-07-03T08:30:48.040601Z",
     "start_time": "2019-07-03T08:30:48.031937Z"
    },
    "deletable": false,
    "editable": false,
    "run_control": {
     "frozen": true
    }
   },
   "source": [
    "Lag en funksjon `vector_dot_product(vec1,vec2)` som tar inn to vektorer som argumenter og returnerer indreproduktet/prikkproduktet av de to vektorene. \n",
    "Du kan gå ut ifra at vektorene har lik lengde. \n",
    "\n",
    "***Skriv svaret ditt i boksen under.***"
   ]
  },
  {
   "cell_type": "code",
   "execution_count": 70,
   "metadata": {
    "ExecuteTime": {
     "end_time": "2019-07-03T08:38:21.863113Z",
     "start_time": "2019-07-03T08:38:21.858576Z"
    }
   },
   "outputs": [],
   "source": [
    "def vector_dot_product(vec1,vec2):\n",
    "    prikk = 0\n",
    "    for i in range(0,3):\n",
    "        prikk += vec1[i] * vec2[i]\n",
    "    return prikk"
   ]
  },
  {
   "cell_type": "markdown",
   "metadata": {
    "deletable": false,
    "editable": false,
    "run_control": {
     "frozen": true
    }
   },
   "source": [
    "Dersom du har gjort det riktig skal koden under printe **29.400**"
   ]
  },
  {
   "cell_type": "code",
   "execution_count": 71,
   "metadata": {
    "ExecuteTime": {
     "end_time": "2019-07-03T08:40:41.435567Z",
     "start_time": "2019-07-03T08:40:41.152222Z"
    }
   },
   "outputs": [
    {
     "name": "stdout",
     "output_type": "stream",
     "text": [
      "29.4 .3f\n"
     ]
    }
   ],
   "source": [
    "vec1 = [1, 4, 3]\n",
    "vec2 = [2, 3.1, 5]\n",
    "print(vector_dot_product(vec1,vec2),\".3f\")"
   ]
  },
  {
   "cell_type": "markdown",
   "metadata": {
    "deletable": false,
    "editable": false,
    "run_control": {
     "frozen": true
    }
   },
   "source": [
    "### f)"
   ]
  },
  {
   "cell_type": "markdown",
   "metadata": {
    "deletable": false,
    "editable": false,
    "run_control": {
     "frozen": true
    }
   },
   "source": [
    "Lag en main-funksjon som:\n",
    "\n",
    "1. Oppretter en vektor med 3 elementer (vec1).\n",
    "2. Skriver ut vektoren på fin form.\n",
    "3. Tar inn en skalar fra bruker. (Skal kunne ta inn både heltall og flyttall.)\n",
    "4. Skriver ut lengden til vektoren før og etter skalering med to desimaler.\n",
    "5. Skriver ut forholdet mellom de to lengdene. (Forholdet bør være lik skalaren.)\n",
    "6. Skriver ut prikkproduktet mellom vektoren før skalering og vektoren etter skalering. Dvs. prikkproduktet mellom vec1 og (vec1*skalar), altså vec1*(vec1*skalar).\n",
    "\n",
    "Eksempel på kjøring:\n",
    "\n",
    "```python\n",
    "vec1 = [9, 3, 0]\n",
    "Skriv inn en skalar: 2.5\n",
    "Lengden før skalering er: 9.49\n",
    "Lengden etter skalering er: 23.72\n",
    "Forholdet mellom lengden før og etter skalering er: 2.5\n",
    "Prikkproduktet av [9, 3, 0] og [22.5, 7.5, 0.0] er: 225.0\n",
    "```\n",
    "\n",
    "***Skriv svaret ditt i boksen under.***"
   ]
  },
  {
   "cell_type": "code",
   "execution_count": 125,
   "metadata": {
    "ExecuteTime": {
     "end_time": "2019-07-03T08:42:38.748968Z",
     "start_time": "2019-07-03T08:42:38.741626Z"
    }
   },
   "outputs": [
    {
     "name": "stdout",
     "output_type": "stream",
     "text": [
      "Navn: Alex\n",
      "Skalar: 2.5\n",
      "Alex = [-7, -7, -5]\n",
      "\n",
      "Lengde før skaleing: [-7, -7, -5]\n",
      "Lengde etter skaleing: [-17.5, -17.5, -12.5]\n",
      "Forholdet mellom lengden før og etter skalering er: 16.64\n",
      "Prikkproduktet av [-7, -7, -5] og [-17.5, -17.5, -12.5] er 307.5\n",
      "None\n"
     ]
    }
   ],
   "source": [
    "def main(name, skalar):\n",
    "    vec1 = vector_creator()\n",
    "    fin = fin_vec(vec1, name)\n",
    "    skaler = scalar_mult(vec1, skalar)\n",
    "    print(fin)\n",
    "    print(\"\")\n",
    "    print(\"Lengde før skaleing:\", vec1)\n",
    "    print(\"Lengde etter skaleing:\", skaler)\n",
    "    print(\"Forholdet mellom lengden før og etter skalering er:\", round(vec_len(skaler) - vec_len(vec1),2))\n",
    "    print(\"Prikkproduktet av\", vec1, \"og\", skaler, \"er\", vector_dot_product(vec1, skaler))\n",
    "\n",
    "n = str(input(\"Navn: \"))\n",
    "s = input(\"Skalar: \")\n",
    "\n",
    "print(main(n, s))"
   ]
  }
 ],
 "metadata": {
  "kernelspec": {
   "display_name": "Python 3",
   "language": "python",
   "name": "python3"
  },
  "language_info": {
   "codemirror_mode": {
    "name": "ipython",
    "version": 3
   },
   "file_extension": ".py",
   "mimetype": "text/x-python",
   "name": "python",
   "nbconvert_exporter": "python",
   "pygments_lexer": "ipython3",
   "version": "3.7.3"
  },
  "toc": {
   "base_numbering": 1,
   "nav_menu": {},
   "number_sections": false,
   "sideBar": true,
   "skip_h1_title": false,
   "title_cell": "Table of Contents",
   "title_sidebar": "Contents",
   "toc_cell": false,
   "toc_position": {},
   "toc_section_display": true,
   "toc_window_display": false
  }
 },
 "nbformat": 4,
 "nbformat_minor": 2
}
